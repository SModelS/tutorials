{
 "cells": [
  {
   "cell_type": "markdown",
   "metadata": {},
   "source": [
    "# SModelS – a tool for interpreting simplified-model results from the LHC"
   ]
  },
  {
   "cell_type": "markdown",
   "metadata": {},
   "source": [
    " <img src=https://smodels.github.io/images/banner720.png />"
   ]
  },
  {
   "cell_type": "markdown",
   "metadata": {},
   "source": [
    "Jan Heisig and Andre Lessa, for the SModelS collaboration.\n",
    "\n",
    "Re-Interpretation Workshop 2021, February 2021."
   ]
  },
  {
   "cell_type": "markdown",
   "metadata": {},
   "source": [
    "## Preparatory step -- installation:"
   ]
  },
  {
   "cell_type": "markdown",
   "metadata": {},
   "source": [
    "### Check the installation instructions [here](https://indico.cern.ch/event/982553/contributions/4220784/attachments/2184008/3700911/smodels-installation.pdf) or install via pip:"
   ]
  },
  {
   "cell_type": "code",
   "execution_count": 3,
   "metadata": {},
   "outputs": [
    {
     "name": "stdout",
     "output_type": "stream",
     "text": [
      "Collecting smodels==2.0.0b0\n",
      "  Downloading smodels-2.0.0b0.tar.gz (4.8 MB)\n",
      "\u001b[K     |████████████████████████████████| 4.8 MB 19.6 MB/s eta 0:00:01\n",
      "\u001b[?25hRequirement already satisfied: docutils>=0.3 in /home/lessa/.local/lib/python3.8/site-packages (from smodels==2.0.0b0) (0.16)\n",
      "Requirement already satisfied: jsonpatch>=1.25 in /home/lessa/.local/lib/python3.8/site-packages (from smodels==2.0.0b0) (1.28)\n",
      "Requirement already satisfied: jsonschema>=3.2.0 in /home/lessa/.local/lib/python3.8/site-packages (from smodels==2.0.0b0) (3.2.0)\n",
      "Requirement already satisfied: numpy>=1.13.0 in /home/lessa/.local/lib/python3.8/site-packages (from smodels==2.0.0b0) (1.19.4)\n",
      "Requirement already satisfied: pyhf>=0.5.1 in /home/lessa/.local/lib/python3.8/site-packages (from smodels==2.0.0b0) (0.5.4)\n",
      "Requirement already satisfied: pyslha>=3.1.0 in /home/lessa/.local/lib/python3.8/site-packages (from smodels==2.0.0b0) (3.2.4)\n",
      "Requirement already satisfied: requests>=2.0.0 in /home/lessa/.local/lib/python3.8/site-packages (from smodels==2.0.0b0) (2.25.1)\n",
      "Requirement already satisfied: scipy>=1.0.0 in /home/lessa/.local/lib/python3.8/site-packages (from smodels==2.0.0b0) (1.6.0)\n",
      "Requirement already satisfied: unum>=4.0.0 in /home/lessa/.local/lib/python3.8/site-packages (from smodels==2.0.0b0) (4.1.4)\n",
      "Requirement already satisfied: jsonpointer>=1.9 in /home/lessa/.local/lib/python3.8/site-packages (from jsonpatch>=1.25->smodels==2.0.0b0) (2.0)\n",
      "Requirement already satisfied: setuptools in /usr/lib/python3/dist-packages (from jsonschema>=3.2.0->smodels==2.0.0b0) (49.3.1)\n",
      "Requirement already satisfied: attrs>=17.4.0 in /home/lessa/.local/lib/python3.8/site-packages (from jsonschema>=3.2.0->smodels==2.0.0b0) (20.3.0)\n",
      "Requirement already satisfied: pyrsistent>=0.14.0 in /home/lessa/.local/lib/python3.8/site-packages (from jsonschema>=3.2.0->smodels==2.0.0b0) (0.17.3)\n",
      "Requirement already satisfied: six>=1.11.0 in /usr/lib/python3/dist-packages (from jsonschema>=3.2.0->smodels==2.0.0b0) (1.15.0)\n",
      "Requirement already satisfied: tqdm in /home/lessa/.local/lib/python3.8/site-packages (from pyhf>=0.5.1->smodels==2.0.0b0) (4.55.1)\n",
      "Requirement already satisfied: click>=6.0 in /usr/lib/python3/dist-packages (from pyhf>=0.5.1->smodels==2.0.0b0) (7.1.2)\n",
      "Requirement already satisfied: pyyaml in /usr/lib/python3/dist-packages (from pyhf>=0.5.1->smodels==2.0.0b0) (5.3.1)\n",
      "Requirement already satisfied: tex2pix>=0.1.5 in /home/lessa/.local/lib/python3.8/site-packages (from pyslha>=3.1.0->smodels==2.0.0b0) (0.3.1)\n",
      "Requirement already satisfied: chardet<5,>=3.0.2 in /usr/lib/python3/dist-packages (from requests>=2.0.0->smodels==2.0.0b0) (3.0.4)\n",
      "Requirement already satisfied: certifi>=2017.4.17 in /usr/lib/python3/dist-packages (from requests>=2.0.0->smodels==2.0.0b0) (2020.4.5.1)\n",
      "Requirement already satisfied: idna<3,>=2.5 in /usr/lib/python3/dist-packages (from requests>=2.0.0->smodels==2.0.0b0) (2.10)\n",
      "Requirement already satisfied: urllib3<1.27,>=1.21.1 in /usr/lib/python3/dist-packages (from requests>=2.0.0->smodels==2.0.0b0) (1.25.9)\n",
      "Building wheels for collected packages: smodels\n",
      "  Building wheel for smodels (setup.py) ... \u001b[?25ldone\n",
      "\u001b[?25h  Created wheel for smodels: filename=smodels-2.0.0b0-py3-none-any.whl size=9367384 sha256=db2c47890f7b699a4450ca93890e3d431ab606513cb91a053b955e03ddd85270\n",
      "  Stored in directory: /home/lessa/.cache/pip/wheels/7f/a7/07/8c72fba842e11ab4a8cbd615e620fd040e9d9f72753aaa23d0\n",
      "Successfully built smodels\n",
      "Installing collected packages: smodels\n",
      "Successfully installed smodels-2.0.0b0\n"
     ]
    }
   ],
   "source": [
    "# smodels is registered at the python packaging index\n",
    "!pip3 install --user smodels==2.0.0b0"
   ]
  },
  {
   "cell_type": "markdown",
   "metadata": {},
   "source": [
    "### Check installation:"
   ]
  },
  {
   "cell_type": "code",
   "execution_count": 5,
   "metadata": {},
   "outputs": [
    {
     "name": "stdout",
     "output_type": "stream",
     "text": [
      "usage: runSModelS.py [-h] -f FILENAME [-p PARAMETERFILE] [-o OUTPUTDIR] [-d]\r\n",
      "                     [-t] [-C] [-V] [-c] [-v VERBOSE] [-T TIMEOUT]\r\n",
      "\r\n",
      "Run SModelS over SLHA/LHE input files.\r\n",
      "\r\n",
      "optional arguments:\r\n",
      "  -h, --help            show this help message and exit\r\n",
      "  -f FILENAME, --filename FILENAME\r\n",
      "                        name of SLHA or LHE input file or a directory path\r\n",
      "                        (required argument). If a directory is given, loop\r\n",
      "                        over all files in the directory\r\n",
      "  -p PARAMETERFILE, --parameterFile PARAMETERFILE\r\n",
      "                        name of parameter file, where most options are defined\r\n",
      "                        (optional argument). If not set, use all parameters\r\n",
      "                        from smodels/etc/parameters_default.ini\r\n",
      "  -o OUTPUTDIR, --outputDir OUTPUTDIR\r\n",
      "                        name of output directory (optional argument). The\r\n",
      "                        default folder is: ./results/\r\n",
      "  -d, --development     if set, SModelS will run in development mode and exit\r\n",
      "                        if any errors are found.\r\n",
      "  -t, --force_txt       force loading the text database\r\n",
      "  -C, --colors          colored output\r\n",
      "  -V, --version         show program's version number and exit\r\n",
      "  -c, --run-crashreport\r\n",
      "                        parse crash report file and use its contents for a\r\n",
      "                        SModelS run. Supply the crash file simply via '--\r\n",
      "                        filename myfile.crash'\r\n",
      "  -v VERBOSE, --verbose VERBOSE\r\n",
      "                        sets the verbosity level (debug, info, warning,\r\n",
      "                        error). Default value is info.\r\n",
      "  -T TIMEOUT, --timeout TIMEOUT\r\n",
      "                        define a limit on the running time (in secs).If not\r\n",
      "                        set, run without a time limit. If a directory is given\r\n",
      "                        as input, the timeout will be applied for each\r\n",
      "                        individual file.\r\n"
     ]
    }
   ],
   "source": [
    "!runSModelS.py --help"
   ]
  },
  {
   "cell_type": "code",
   "execution_count": 7,
   "metadata": {},
   "outputs": [
    {
     "name": "stdout",
     "output_type": "stream",
     "text": [
      "INFO in databaseObj.loadBinaryFile() in 212: loading binary db file /home/lessa/.cache/smodels/official200-beta.pcl format version 213\n",
      "INFO in databaseObj.loadBinaryFile() in 219: Loaded database from /home/lessa/.cache/smodels/official200-beta.pcl in 0.7 secs.\n",
      "INFO in modelTester.testPoints() in 285: Running SModelS for a single file\n",
      "INFO in model.updateParticles() in 386: Loaded 62 BSM particles\n",
      "INFO in model.updateParticles() in 386: Loaded 62 BSM particles\n",
      "Input status: 1\n",
      "Decomposition output status: 1 #decomposition was successful\n",
      "# Input File: /home/lessa/.local/smodels/inputFiles/slha/simplyGluino.slha\n",
      "# maxcond = 0.2\n",
      "# minmassgap = 5\n",
      "# ncpus = 1\n",
      "# sigmacut = 0.01\n",
      "# Database version: 2.0.0-beta\n",
      "================================================================================\n",
      "  ========================================================  \n",
      "||                                                        ||\n",
      "||                    Topologies Table                    ||\n",
      "||                                                        ||\n",
      "  ========================================================  \n",
      "===================================================== \n",
      "Topology:\n",
      "Number of vertices: [1, 1] \n",
      "Number of vertex parts: [[2], [2]]\n",
      "Total Global topology weight :\n",
      "Sqrts: 8.00E+00 [TeV], Weight:5.72E-01 [pb]\n",
      "Sqrts: 1.30E+01 [TeV], Weight:4.31E+00 [pb]\n",
      "\n",
      "Total Number of Elements: 1\n",
      "  ========================================================  \n",
      "||                                                        ||\n",
      "||                 Theory Predictions and                 ||\n",
      "||                Experimental Constraints                ||\n",
      "||                                                        ||\n",
      "  ========================================================  \n",
      "\n",
      "---------------Analysis Label = CMS-SUS-16-033\n",
      "-------------------Dataset Label = (UL)\n",
      "-------------------Txname Labels = ['T1']\n",
      "Analysis sqrts: 1.30E+01 [TeV]\n",
      "Theory prediction: 4.31E+00 [pb]\n",
      "Theory conditions:  None\n",
      "Observed experimental limit: 1.99E+01 [fb]\n",
      "Expected experimental limit: 3.96E+01 [fb]\n",
      "Observed r-Value: 216.50838351075308\n",
      "Expected r-Value: 108.75921197446962\n",
      "\n",
      "---------------Analysis Label = CMS-SUS-16-036\n",
      "-------------------Dataset Label = (UL)\n",
      "-------------------Txname Labels = ['T1']\n",
      "Analysis sqrts: 1.30E+01 [TeV]\n",
      "Theory prediction: 4.31E+00 [pb]\n",
      "Theory conditions:  None\n",
      "Observed experimental limit: 2.78E+01 [fb]\n",
      "Expected experimental limit: 5.00E+01 [fb]\n",
      "Observed r-Value: 154.89259871672746\n",
      "Expected r-Value: 86.19017391913108\n",
      "\n",
      "---------------Analysis Label = CMS-SUS-19-006\n",
      "-------------------Dataset Label = (UL)\n",
      "-------------------Txname Labels = ['T1']\n",
      "Analysis sqrts: 1.30E+01 [TeV]\n",
      "Theory prediction: 4.31E+00 [pb]\n",
      "Theory conditions:  None\n",
      "Observed experimental limit: 3.54E+01 [fb]\n",
      "Expected experimental limit: 3.85E+01 [fb]\n",
      "Observed r-Value: 121.75807477448873\n",
      "Expected r-Value: 111.9253720317615\n",
      "\n",
      "---------------Analysis Label = ATLAS-SUSY-2016-07\n",
      "-------------------Dataset Label = 4j_Meff_1400\n",
      "-------------------Txname Labels = ['T1']\n",
      "Analysis sqrts: 1.30E+01 [TeV]\n",
      "Theory prediction: 9.26E-02 [pb]\n",
      "Theory conditions:  None\n",
      "Observed experimental limit: 1.73E+00 [fb]\n",
      "Expected experimental limit: 1.24E+00 [fb]\n",
      "Observed r-Value: 53.53938191052889\n",
      "Expected r-Value: 74.69607314936691\n",
      "Chi2: 5282.385677909366\n",
      "Likelihood: 0.0\n",
      "\n",
      "---------------Analysis Label = CMS-SUS-16-033\n",
      "-------------------Dataset Label = SR3_Njet5_Nb0_HT500_MHT_500\n",
      "-------------------Txname Labels = ['T1']\n",
      "Analysis sqrts: 1.30E+01 [TeV]\n",
      "Theory prediction: 1.35E-01 [pb]\n",
      "Theory conditions:  None\n",
      "Observed experimental limit: 4.10E+00 [fb]\n",
      "Expected experimental limit: 3.72E+00 [fb]\n",
      "Observed r-Value: 33.015928586706096\n",
      "Expected r-Value: 36.38852344233735\n",
      "Chi2: 4400.245832763837\n",
      "Likelihood: 0.0\n",
      "\n",
      "---------------Analysis Label = ATLAS-SUSY-2015-06\n",
      "-------------------Dataset Label = SR5j\n",
      "-------------------Txname Labels = ['T1']\n",
      "Analysis sqrts: 1.30E+01 [TeV]\n",
      "Theory prediction: 3.55E-02 [pb]\n",
      "Theory conditions:  None\n",
      "Observed experimental limit: 1.79E+00 [fb]\n",
      "Expected experimental limit: 3.05E+00 [fb]\n",
      "Observed r-Value: 19.80621296771299\n",
      "Expected r-Value: 11.623974167936476\n",
      "Chi2: 194.45229760621902\n",
      "Likelihood: 1.6102816110257395e-44\n",
      "\n",
      "---------------Analysis Label = ATLAS-SUSY-2013-02\n",
      "-------------------Dataset Label = SR5j\n",
      "-------------------Txname Labels = ['T1']\n",
      "Analysis sqrts: 8.00E+00 [TeV]\n",
      "Theory prediction: 2.67E-02 [pb]\n",
      "Theory conditions:  None\n",
      "Observed experimental limit: 1.54E+00 [fb]\n",
      "Expected experimental limit: 1.71E+00 [fb]\n",
      "Observed r-Value: 17.31145093349364\n",
      "Expected r-Value: 15.585154420169992\n",
      "Chi2: 573.2390516425446\n",
      "Likelihood: 3.7060094642725226e-128\n",
      "\n",
      "---------------Analysis Label = ATLAS-SUSY-2016-07\n",
      "-------------------Dataset Label = (UL)\n",
      "-------------------Txname Labels = ['T1']\n",
      "Analysis sqrts: 1.30E+01 [TeV]\n",
      "Theory prediction: 4.31E+00 [pb]\n",
      "Theory conditions:  None\n",
      "Observed experimental limit: 2.52E+02 [fb]\n",
      "Observed r-Value: 17.082141199074652\n",
      "\n",
      "---------------Analysis Label = ATLAS-SUSY-2013-02\n",
      "-------------------Dataset Label = (UL)\n",
      "-------------------Txname Labels = ['T1']\n",
      "Analysis sqrts: 8.00E+00 [TeV]\n",
      "Theory prediction: 5.72E-01 [pb]\n",
      "Theory conditions:  None\n",
      "Observed experimental limit: 3.81E+01 [fb]\n",
      "Observed r-Value: 15.002594131837013\n",
      "\n",
      "---------------Analysis Label = CMS-SUS-13-012\n",
      "-------------------Dataset Label = (UL)\n",
      "-------------------Txname Labels = ['T1']\n",
      "Analysis sqrts: 8.00E+00 [TeV]\n",
      "Theory prediction: 5.72E-01 [pb]\n",
      "Theory conditions:  None\n",
      "Observed experimental limit: 4.25E+01 [fb]\n",
      "Expected experimental limit: 3.44E+01 [fb]\n",
      "Observed r-Value: 13.461214798259027\n",
      "Expected r-Value: 16.645398702507705\n",
      "\n",
      "---------------Analysis Label = CMS-SUS-13-019\n",
      "-------------------Dataset Label = (UL)\n",
      "-------------------Txname Labels = ['T1']\n",
      "Analysis sqrts: 8.00E+00 [TeV]\n",
      "Theory prediction: 5.72E-01 [pb]\n",
      "Theory conditions:  None\n",
      "Observed experimental limit: 5.13E+01 [fb]\n",
      "Observed r-Value: 11.15621765749605\n",
      "\n",
      "---------------Analysis Label = CMS-SUS-12-028\n",
      "-------------------Dataset Label = (UL)\n",
      "-------------------Txname Labels = ['T1']\n",
      "Analysis sqrts: 8.00E+00 [TeV]\n",
      "Theory prediction: 5.72E-01 [pb]\n",
      "Theory conditions:  None\n",
      "Observed experimental limit: 7.62E+01 [fb]\n",
      "Expected experimental limit: 4.98E+01 [fb]\n",
      "Observed r-Value: 7.507793399816298\n",
      "Expected r-Value: 11.48541532007146\n",
      "\n",
      "---------------Analysis Label = CMS-SUS-13-012\n",
      "-------------------Dataset Label = 6NJet8_800HT1000_300MHT450\n",
      "-------------------Txname Labels = ['T1']\n",
      "Analysis sqrts: 8.00E+00 [TeV]\n",
      "Theory prediction: 4.72E-03 [pb]\n",
      "Theory conditions:  None\n",
      "Observed experimental limit: 1.35E+00 [fb]\n",
      "Expected experimental limit: 1.02E+00 [fb]\n",
      "Observed r-Value: 3.4994911636701853\n",
      "Expected r-Value: 4.631679481328187\n",
      "Chi2: 63.66852615000214\n",
      "Likelihood: 5.813775045549619e-17\n",
      "\n",
      "Total cross-section for missing topologies (fb):  0.000E+00\n",
      "Total cross-section for missing topologies with displaced decays (fb):  0.000E+00\n",
      "Total cross-section for missing topologies with prompt decays (fb):  0.000E+00\n",
      "Total cross-section for topologies outside the grid (fb):  0.000E+00\n",
      "\n",
      "Full information on unconstrained cross sections\n",
      "================================================================================\n",
      "No missing topologies found\n",
      "================================================================================\n",
      "No missing topologies with displaced decays found\n",
      "================================================================================\n",
      "No missing topologies with prompt decays found\n",
      "================================================================================\n",
      "No topologies outside the grid found\n",
      "================================================================================\n",
      "INFO in modelTester.testPoints() in 322: Done in 0.02 min\n"
     ]
    }
   ],
   "source": [
    "!runSModelS.py -f ~/.local/smodels/inputFiles/slha/simplyGluino.slha"
   ]
  },
  {
   "cell_type": "markdown",
   "metadata": {},
   "source": [
    "## First Step: Run SModelS for a single file"
   ]
  },
  {
   "cell_type": "code",
   "execution_count": 2,
   "metadata": {},
   "outputs": [],
   "source": [
    "!runSModelS.py -p parameters.ini -f slhaFiles/wino_11010599.slha"
   ]
  },
  {
   "cell_type": "markdown",
   "metadata": {},
   "source": [
    "## Second Step: Run SModelS for multiple files"
   ]
  },
  {
   "cell_type": "code",
   "execution_count": null,
   "metadata": {},
   "outputs": [],
   "source": [
    "!runSModelS.py -p parameters_idm.ini -f slhaFiles/IDM_points -o results/IDM_output"
   ]
  },
  {
   "cell_type": "markdown",
   "metadata": {},
   "source": [
    "## Third Step: plot the results"
   ]
  },
  {
   "cell_type": "markdown",
   "metadata": {},
   "source": [
    "### Plot IDM results"
   ]
  },
  {
   "cell_type": "code",
   "execution_count": null,
   "metadata": {},
   "outputs": [],
   "source": [
    "import warnings\n",
    "warnings.filterwarnings(\"ignore\", message=\"numpy.dtype size changed\")\n",
    "import pyslha\n",
    "import matplotlib.pyplot as plt\n",
    "import numpy as np\n",
    "import imp,glob,os\n",
    "cm = plt.cm.get_cmap('RdYlBu')"
   ]
  },
  {
   "cell_type": "markdown",
   "metadata": {},
   "source": [
    "### Define path to SLHA and results folders"
   ]
  },
  {
   "cell_type": "code",
   "execution_count": null,
   "metadata": {},
   "outputs": [],
   "source": [
    "slhaFolder = '../slhaFiles/IDM_points'\n",
    "resultsFolder = '../results/IDM_output'"
   ]
  },
  {
   "cell_type": "markdown",
   "metadata": {},
   "source": [
    "### Read SModelS results"
   ]
  },
  {
   "cell_type": "code",
   "execution_count": null,
   "metadata": {},
   "outputs": [],
   "source": [
    "#Convert Experimental Results list to a dictionary\n",
    "data = []\n",
    "for f in glob.glob(resultsFolder+'/*.py'):\n",
    "    smodelsDict = imp.load_source(f.replace('.py',''),f).smodelsOutput\n",
    "    slhaFile = os.path.basename(smodelsDict['OutputStatus']['input file'])\n",
    "    slhaFile = os.path.join(slhaFolder,slhaFile)\n",
    "    #Read SLHA file (using pyslha):\n",
    "    slhaData = pyslha.readSLHAFile(slhaFile)\n",
    "    data.append((slhaData,smodelsDict))"
   ]
  },
  {
   "cell_type": "code",
   "execution_count": null,
   "metadata": {},
   "outputs": [],
   "source": [
    "mHc = []\n",
    "ctau = []\n",
    "r = []\n",
    "for slhaData,smodelsDict in data:\n",
    "    if not 'ExptRes' in smodelsDict: #If no results were applicable, point is allowed\n",
    "        rmax = 0.0\n",
    "    else:\n",
    "        rmax = smodelsDict['ExptRes'][0]['r'] #First result is the most constraining\n",
    "    mass = slhaData.blocks['MASS'][37] #H+ mass\n",
    "    width = slhaData.decays[37].totalwidth #H+ mass\n",
    "    if width:    \n",
    "        ct = 1.967e-16/width\n",
    "    else:\n",
    "        ct = 1e7\n",
    "    \n",
    "    mHc.append(mass)\n",
    "    ctau.append(ct)\n",
    "    r.append(rmax)"
   ]
  },
  {
   "cell_type": "markdown",
   "metadata": {},
   "source": [
    "### Plot results:"
   ]
  },
  {
   "cell_type": "code",
   "execution_count": null,
   "metadata": {},
   "outputs": [],
   "source": [
    "plt.figure(figsize=(8,6))\n",
    "cp = plt.scatter(mHc,ctau, c=r, vmin=0., vmax=2., s=25, cmap=cm)\n",
    "cb = plt.colorbar(cp)\n",
    "plt.yscale('log')\n",
    "plt.xlabel(r'$m_{H^{\\pm}}$ (GeV)',fontsize=20)    \n",
    "plt.ylabel(r'$c\\tau$ (m)',fontsize=20)\n",
    "cb.set_label(r'$r=\\sigma_{th}/\\sigma_{UL}$',fontsize=20)\n",
    "plt.tight_layout()\n",
    "plt.show()"
   ]
  }
 ],
 "metadata": {
  "kernelspec": {
   "display_name": "Python 3",
   "language": "python",
   "name": "python3"
  },
  "language_info": {
   "codemirror_mode": {
    "name": "ipython",
    "version": 3
   },
   "file_extension": ".py",
   "mimetype": "text/x-python",
   "name": "python",
   "nbconvert_exporter": "python",
   "pygments_lexer": "ipython3",
   "version": "3.8.6"
  }
 },
 "nbformat": 4,
 "nbformat_minor": 4
}
