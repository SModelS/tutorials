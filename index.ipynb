{
 "cells": [
  {
   "cell_type": "markdown",
   "metadata": {},
   "source": [
    "# SModelS – a tool for interpreting simplified-model results from the LHC"
   ]
  },
  {
   "cell_type": "markdown",
   "metadata": {},
   "source": [
    " <img src=https://smodels.github.io/images/banner720.png />"
   ]
  },
  {
   "cell_type": "markdown",
   "metadata": {},
   "source": [
    "Jan Heisig and Andre Lessa, for the SModelS collaboration.\n",
    "\n",
    "Re-Interpretation Workshop 2021, February 2021. Updated for SModelS 2.3.2 and google colab by WW, Sept 2023."
   ]
  },
  {
   "cell_type": "markdown",
   "metadata": {},
   "source": [
    "## Preparatory step -- installation:"
   ]
  },
  {
   "cell_type": "markdown",
   "metadata": {},
   "source": [
    "### Prepare the environment: install smodels, download files needed for the tutorial"
   ]
  },
  {
   "cell_type": "code",
   "execution_count": 1,
   "metadata": {},
   "outputs": [
    {
     "name": "stdout",
     "output_type": "stream",
     "text": [
      "--2023-09-12 17:38:39--  https://raw.githubusercontent.com/SModelS/tutorials/main/prepare.sh\n",
      "Resolving raw.githubusercontent.com (raw.githubusercontent.com)... 185.199.108.133, 185.199.111.133, 185.199.110.133, ...\n",
      "Connecting to raw.githubusercontent.com (raw.githubusercontent.com)|185.199.108.133|:443... connected.\n",
      "HTTP request sent, awaiting response... 200 OK\n",
      "Length: 230 [text/plain]\n",
      "Saving to: 'prepare.sh'\n",
      "\n",
      "prepare.sh          100%[===================>]     230  --.-KB/s    in 0s      \n",
      "\n",
      "2023-09-12 17:38:39 (3.70 MB/s) - 'prepare.sh' saved [230/230]\n",
      "\n",
      "Requirement already satisfied: docutils>=0.3 in /home/walten/.venvs/311/lib/python3.11/site-packages (from -r requirements.txt (line 1)) (0.18.1)\n",
      "Requirement already satisfied: numpy>=1.13.0 in /home/walten/.venvs/311/lib/python3.11/site-packages (from -r requirements.txt (line 2)) (1.24.4)\n",
      "Requirement already satisfied: scipy>=1.0.0 in /home/walten/.venvs/311/lib/python3.11/site-packages (from -r requirements.txt (line 3)) (1.11.2)\n",
      "Requirement already satisfied: unum>=4.0.0 in /home/walten/.venvs/311/lib/python3.11/site-packages (from -r requirements.txt (line 4)) (4.2.1)\n",
      "Requirement already satisfied: requests>=2.0.0 in /home/walten/.venvs/311/lib/python3.11/site-packages (from -r requirements.txt (line 5)) (2.31.0)\n",
      "Requirement already satisfied: pyslha>=3.1.0 in /home/walten/.venvs/311/lib/python3.11/site-packages (from -r requirements.txt (line 6)) (3.2.6)\n",
      "Requirement already satisfied: pyhf>=0.5.1 in /home/walten/.venvs/311/lib/python3.11/site-packages (from -r requirements.txt (line 7)) (0.7.3)\n",
      "Requirement already satisfied: jsonpatch>=1.25 in /home/walten/.venvs/311/lib/python3.11/site-packages (from -r requirements.txt (line 8)) (1.33)\n",
      "Requirement already satisfied: jsonschema>=3.2.0 in /home/walten/.venvs/311/lib/python3.11/site-packages (from -r requirements.txt (line 9)) (4.19.0)\n",
      "Requirement already satisfied: matplotlib in /home/walten/.venvs/311/lib/python3.11/site-packages (from -r requirements.txt (line 10)) (3.7.2)\n",
      "Requirement already satisfied: charset-normalizer<4,>=2 in /home/walten/.venvs/311/lib/python3.11/site-packages (from requests>=2.0.0->-r requirements.txt (line 5)) (3.2.0)\n",
      "Requirement already satisfied: idna<4,>=2.5 in /home/walten/.venvs/311/lib/python3.11/site-packages (from requests>=2.0.0->-r requirements.txt (line 5)) (3.4)\n",
      "Requirement already satisfied: urllib3<3,>=1.21.1 in /home/walten/.venvs/311/lib/python3.11/site-packages (from requests>=2.0.0->-r requirements.txt (line 5)) (2.0.4)\n",
      "Requirement already satisfied: certifi>=2017.4.17 in /home/walten/.venvs/311/lib/python3.11/site-packages (from requests>=2.0.0->-r requirements.txt (line 5)) (2023.7.22)\n",
      "Requirement already satisfied: tex2pix>=0.1.5 in /home/walten/.venvs/311/lib/python3.11/site-packages (from pyslha>=3.1.0->-r requirements.txt (line 6)) (0.3.1)\n",
      "Requirement already satisfied: click>=8.0.0 in /home/walten/.venvs/311/lib/python3.11/site-packages (from pyhf>=0.5.1->-r requirements.txt (line 7)) (8.1.7)\n",
      "Requirement already satisfied: pyyaml>=5.1 in /home/walten/.venvs/311/lib/python3.11/site-packages (from pyhf>=0.5.1->-r requirements.txt (line 7)) (6.0.1)\n",
      "Requirement already satisfied: tqdm>=4.56.0 in /home/walten/.venvs/311/lib/python3.11/site-packages (from pyhf>=0.5.1->-r requirements.txt (line 7)) (4.66.1)\n",
      "Requirement already satisfied: jsonpointer>=1.9 in /home/walten/.venvs/311/lib/python3.11/site-packages (from jsonpatch>=1.25->-r requirements.txt (line 8)) (2.4)\n",
      "Requirement already satisfied: attrs>=22.2.0 in /home/walten/.venvs/311/lib/python3.11/site-packages (from jsonschema>=3.2.0->-r requirements.txt (line 9)) (23.1.0)\n",
      "Requirement already satisfied: jsonschema-specifications>=2023.03.6 in /home/walten/.venvs/311/lib/python3.11/site-packages (from jsonschema>=3.2.0->-r requirements.txt (line 9)) (2023.7.1)\n",
      "Requirement already satisfied: referencing>=0.28.4 in /home/walten/.venvs/311/lib/python3.11/site-packages (from jsonschema>=3.2.0->-r requirements.txt (line 9)) (0.30.2)\n",
      "Requirement already satisfied: rpds-py>=0.7.1 in /home/walten/.venvs/311/lib/python3.11/site-packages (from jsonschema>=3.2.0->-r requirements.txt (line 9)) (0.9.2)\n",
      "Requirement already satisfied: contourpy>=1.0.1 in /home/walten/.venvs/311/lib/python3.11/site-packages (from matplotlib->-r requirements.txt (line 10)) (1.1.0)\n",
      "Requirement already satisfied: cycler>=0.10 in /home/walten/.venvs/311/lib/python3.11/site-packages (from matplotlib->-r requirements.txt (line 10)) (0.11.0)\n",
      "Requirement already satisfied: fonttools>=4.22.0 in /home/walten/.venvs/311/lib/python3.11/site-packages (from matplotlib->-r requirements.txt (line 10)) (4.42.0)\n",
      "Requirement already satisfied: kiwisolver>=1.0.1 in /home/walten/.venvs/311/lib/python3.11/site-packages (from matplotlib->-r requirements.txt (line 10)) (1.4.4)\n",
      "Requirement already satisfied: packaging>=20.0 in /home/walten/.venvs/311/lib/python3.11/site-packages (from matplotlib->-r requirements.txt (line 10)) (23.1)\n",
      "Requirement already satisfied: pillow>=6.2.0 in /home/walten/.venvs/311/lib/python3.11/site-packages (from matplotlib->-r requirements.txt (line 10)) (10.0.0)\n",
      "Requirement already satisfied: pyparsing<3.1,>=2.3.1 in /home/walten/.venvs/311/lib/python3.11/site-packages (from matplotlib->-r requirements.txt (line 10)) (3.0.9)\n",
      "Requirement already satisfied: python-dateutil>=2.7 in /home/walten/.venvs/311/lib/python3.11/site-packages (from matplotlib->-r requirements.txt (line 10)) (2.8.2)\n",
      "Requirement already satisfied: six>=1.5 in /home/walten/.venvs/311/lib/python3.11/site-packages (from python-dateutil>=2.7->matplotlib->-r requirements.txt (line 10)) (1.16.0)\n",
      "--2023-09-12 17:38:42--  https://raw.githubusercontent.com/SModelS/tutorials/main/files_tutorial.tar.gz\n",
      "Resolving raw.githubusercontent.com (raw.githubusercontent.com)... 185.199.110.133, 185.199.109.133, 185.199.111.133, ...\n",
      "Connecting to raw.githubusercontent.com (raw.githubusercontent.com)|185.199.110.133|:443... connected.\n",
      "HTTP request sent, awaiting response... 200 OK\n",
      "Length: 7195873 (6.9M) [application/octet-stream]\n",
      "Saving to: 'files_tutorial.tar.gz'\n",
      "\n",
      "files_tutorial.tar. 100%[===================>]   6.86M  37.0MB/s    in 0.2s    \n",
      "\n",
      "2023-09-12 17:38:42 (37.0 MB/s) - 'files_tutorial.tar.gz' saved [7195873/7195873]\n",
      "\n"
     ]
    }
   ],
   "source": [
    "!rm -f prepare.sh ; wget https://raw.githubusercontent.com/SModelS/tutorials/main/prepare.sh ; sh ./prepare.sh"
   ]
  },
  {
   "cell_type": "markdown",
   "metadata": {},
   "source": [
    "### Check installation:"
   ]
  },
  {
   "cell_type": "code",
   "execution_count": 2,
   "metadata": {},
   "outputs": [
    {
     "name": "stdout",
     "output_type": "stream",
     "text": [
      "                   ____  __  __           _      _ ____\n",
      "                  / ___||  \\/  | ___   __| | ___| / ___|\n",
      "                  \\___ \\| |\\/| |/ _ \\ / _` |/ _ \\ \\___ \\\n",
      "                   ___) | |  | | (_) | (_| |  __/ |___) |\n",
      "                  |____/|_|  |_|\\___/ \\__,_|\\___|_|____/\n",
      "\n",
      "\n",
      "SModelS -- A tool for interpreting simplified-model results from the LHC,\n",
      "see https://smodels.github.io/.\n",
      "\n",
      "Copyright (C) 2012-2023 The SModelS collaboration, smodels-users@lists.oeaw.ac.at\n",
      "Current members: Mohammad Mahdi Altakach, Sabine Kraml, Andre Lessa, Sahana Narashima, Timothee Pascal, Humberto Reyes-Gonzalez, Wolfgang Waltenberger\n",
      "\n",
      "Previously involved in SModelS: Gael Alguero, Federico Ambrogi, Juhi Dutta, Jan Heisig, Charanjit K. Khosa, Suchita Kulkarni, Ursula Laa, Veronika Magerl, Wolfgang Magerl, Philipp Neuhuber, Doris Proschofsky, Jory Sonneveld, Michael Traub, Matthias Wolf, Alicia Wongel\n",
      "\n",
      "SModelS version: 2.3.2\n",
      "Installation directory: /home/walten/git/smodels/\n",
      "This binary: /home/walten/git/smodels/smodels/tools/smodelsTools.py\n"
     ]
    }
   ],
   "source": [
    "!smodelsTools.py installation"
   ]
  },
  {
   "cell_type": "markdown",
   "metadata": {},
   "source": [
    "## First Step: Run SModelS for a single file"
   ]
  },
  {
   "cell_type": "code",
   "execution_count": null,
   "metadata": {},
   "outputs": [
    {
     "name": "stdout",
     "output_type": "stream",
     "text": [
      "INFO in databaseObj.loadBinaryFile() in 505: loading binary db file /home/walten/.cache/smodels/official230.pcl format version 214\n",
      "INFO in databaseObj.loadBinaryFile() in 512: Loaded database from /home/walten/.cache/smodels/official230.pcl in 1.5 secs.\n",
      "INFO in modelTester.testPoints() in 341: Running SModelS for a single file\n",
      "WARNING in printer.setOutPutFile() in 841: Removing old output file ./results/wino_11010599.slha.py\n",
      "WARNING in printer.setOutPutFile() in 670: Removing old output file ./results/wino_11010599.slha.smodels\n",
      "INFO in model.updateParticles() in 394: Loaded 62 BSM particles\n",
      "INFO in model.updateParticles() in 394: Loaded 62 BSM particles\n",
      "Input status: 1\n",
      "Decomposition output status: 1 #decomposition was successful\n",
      "# Input File: slhaFiles/wino_11010599.slha\n",
      "# checkinput = True\n",
      "# combinesrs = False\n",
      "# computestatistics = True\n",
      "# docompress = True\n",
      "# doinvisible = True\n",
      "# maxcond = 0.2\n",
      "# minmassgap = 5.\n",
      "# model = share.models.mssm\n",
      "# ncpus = 1\n",
      "# promptwidth = 1e-8\n",
      "# sigmacut = 0.5\n",
      "# stablewidth = 1e-25\n",
      "# testcoverage = True\n",
      "# SModelS version: 2.3.2\n",
      "# Database version: 2.3.0\n",
      "================================================================================\n",
      "  ========================================================  \n",
      "||                                                        ||\n",
      "||                 Theory Predictions and                 ||\n",
      "||                Experimental Constraints                ||\n",
      "||                                                        ||\n",
      "  ========================================================  \n",
      "\n",
      "---------------Analysis Label = ATLAS-SUSY-2016-06\n",
      "-------------------Dataset Label = SR_EW\n",
      "-------------------Txname Labels = ['TDTM1F', 'TDTM2F']\n",
      "Analysis sqrts: 1.30E+01 [TeV]\n",
      "Theory prediction: 3.14E-03 [pb]\n",
      "Theory conditions:  None\n",
      "Observed experimental limit: 2.20E-01 [fb]\n",
      "Expected experimental limit: 2.80E-01 [fb]\n",
      "Observed r-value: 14.29\n",
      "Expected r-value: 11.23\n",
      "Likelihood: 6.517e-41\n",
      "L_max: 0.01388   -2log(L/L_max): 176.5\n",
      "L_SM: 0.01388   -2log(L/L_SM): 176.5\n",
      "\n",
      "---------------Analysis Label = CMS-EXO-19-010\n",
      "-------------------Dataset Label = SR_nlay4\n",
      "-------------------Txname Labels = ['TDTM1F', 'TDTM2F']\n",
      "Analysis sqrts: 1.30E+01 [TeV]\n",
      "Theory prediction: 1.95E-03 [pb]\n",
      "Theory conditions:  None\n",
      "Observed experimental limit: 2.50E-01 [fb]\n",
      "Expected experimental limit: 2.17E-01 [fb]\n",
      "Observed r-value: 7.801\n",
      "Expected r-value: 8.987\n",
      "Likelihood: 1.237e-49\n",
      "L_max: 0.003378   -2log(L/L_max): 213.8\n",
      "L_SM: 0.003208   -2log(L/L_SM): 213.7\n",
      "\n",
      "---------------Analysis Label = ATLAS-SUSY-2018-22\n",
      "-------------------Dataset Label = (UL)\n",
      "-------------------Txname Labels = ['T2']\n",
      "Analysis sqrts: 1.30E+01 [TeV]\n",
      "Theory prediction: 5.26E-04 [pb]\n",
      "Theory conditions:  None\n",
      "Observed experimental limit: 7.09E-01 [fb]\n",
      "Observed r-value: 0.7413\n",
      "\n",
      "---------------Analysis Label = ATLAS-SUSY-2018-22\n",
      "-------------------Dataset Label = SR2j_2800\n",
      "-------------------Txname Labels = ['T2']\n",
      "Analysis sqrts: 1.30E+01 [TeV]\n",
      "Theory prediction: 6.79E-05 [pb]\n",
      "Theory conditions:  None\n",
      "Observed experimental limit: 1.39E-01 [fb]\n",
      "Expected experimental limit: 1.93E-01 [fb]\n",
      "Observed r-value: 0.4888\n",
      "Expected r-value: 0.352\n",
      "Likelihood: 0.0007186\n",
      "L_max: 0.001703   -2log(L/L_max): 1.726\n",
      "L_SM: 0.001703   -2log(L/L_SM): 1.726\n",
      "\n",
      "---------------Analysis Label = CMS-SUS-19-006\n",
      "-------------------Dataset Label = (UL)\n",
      "-------------------Txname Labels = ['T2']\n",
      "Analysis sqrts: 1.30E+01 [TeV]\n",
      "Theory prediction: 5.26E-04 [pb]\n",
      "Theory conditions:  None\n",
      "Observed experimental limit: 1.65E+00 [fb]\n",
      "Expected experimental limit: 1.52E+00 [fb]\n",
      "Observed r-value: 0.3188\n",
      "Expected r-value: 0.346\n",
      "\n",
      "---------------Analysis Label = ATLAS-SUSY-2016-07\n",
      "-------------------Dataset Label = (UL)\n",
      "-------------------Txname Labels = ['T2']\n",
      "Analysis sqrts: 1.30E+01 [TeV]\n",
      "Theory prediction: 5.26E-04 [pb]\n",
      "Theory conditions:  None\n",
      "Observed experimental limit: 1.96E+00 [fb]\n",
      "Observed r-value: 0.2682\n",
      "\n",
      "---------------Analysis Label = CMS-SUS-16-036\n",
      "-------------------Dataset Label = (UL)\n",
      "-------------------Txname Labels = ['T2']\n",
      "Analysis sqrts: 1.30E+01 [TeV]\n",
      "Theory prediction: 5.26E-04 [pb]\n",
      "Theory conditions:  None\n",
      "Observed experimental limit: 2.25E+00 [fb]\n",
      "Expected experimental limit: 2.22E+00 [fb]\n",
      "Observed r-value: 0.234\n",
      "Expected r-value: 0.2371\n",
      "\n",
      "---------------Analysis Label = ATLAS-SUSY-2016-07\n",
      "-------------------Dataset Label = 2j_Meff_2800\n",
      "-------------------Txname Labels = ['T2']\n",
      "Analysis sqrts: 1.30E+01 [TeV]\n",
      "Theory prediction: 5.70E-05 [pb]\n",
      "Theory conditions:  None\n",
      "Observed experimental limit: 3.55E-01 [fb]\n",
      "Expected experimental limit: 2.92E-01 [fb]\n",
      "Observed r-value: 0.1604\n",
      "Expected r-value: 0.195\n",
      "Likelihood: 0.01813\n",
      "L_max: 0.01818   -2log(L/L_max): 0.005462\n",
      "L_SM: 0.01702   -2log(L/L_SM): -0.1255\n",
      "\n",
      "---------------Analysis Label = CMS-SUS-16-033\n",
      "-------------------Dataset Label = (UL)\n",
      "-------------------Txname Labels = ['T2']\n",
      "Analysis sqrts: 1.30E+01 [TeV]\n",
      "Theory prediction: 5.26E-04 [pb]\n",
      "Theory conditions:  None\n",
      "Observed experimental limit: 3.52E+00 [fb]\n",
      "Expected experimental limit: 2.79E+00 [fb]\n",
      "Observed r-value: 0.1496\n",
      "Expected r-value: 0.1885\n",
      "\n",
      "---------------Analysis Label = CMS-SUS-19-006-agg\n",
      "-------------------Dataset Label = AR8\n",
      "-------------------Txname Labels = ['T2']\n",
      "Analysis sqrts: 1.30E+01 [TeV]\n",
      "Theory prediction: 3.48E-05 [pb]\n",
      "Theory conditions:  None\n",
      "Observed experimental limit: 2.35E-01 [fb]\n",
      "Expected experimental limit: 1.67E-01 [fb]\n",
      "Observed r-value: 0.148\n",
      "Expected r-value: 0.2084\n",
      "Likelihood: 0.002111\n",
      "L_max: 0.002394   -2log(L/L_max): 0.2515\n",
      "L_SM: 0.001564   -2log(L/L_SM): -0.6005\n",
      "\n",
      "---------------Analysis Label = CMS-SUS-16-033\n",
      "-------------------Dataset Label = SR2_Njet3_Nb0_HT1500_MHT750\n",
      "-------------------Txname Labels = ['T2']\n",
      "Analysis sqrts: 1.30E+01 [TeV]\n",
      "Theory prediction: 9.32E-05 [pb]\n",
      "Theory conditions:  None\n",
      "Observed experimental limit: 1.32E+00 [fb]\n",
      "Expected experimental limit: 8.20E-01 [fb]\n",
      "Observed r-value: 0.07061\n",
      "Expected r-value: 0.1137\n",
      "Likelihood: 0.001114\n",
      "L_max: 0.001641   -2log(L/L_max): 0.7738\n",
      "L_SM: 0.0008781   -2log(L/L_SM): -0.4762\n",
      "\n",
      "---------------Analysis Label = ATLAS-SUSY-2015-06\n",
      "-------------------Dataset Label = SR2jt\n",
      "-------------------Txname Labels = ['T2']\n",
      "Analysis sqrts: 1.30E+01 [TeV]\n",
      "Theory prediction: 1.85E-04 [pb]\n",
      "Theory conditions:  None\n",
      "Observed experimental limit: 5.08E+00 [fb]\n",
      "Expected experimental limit: 4.28E+00 [fb]\n",
      "Observed r-value: 0.03639\n",
      "Expected r-value: 0.0432\n",
      "Likelihood: 0.007247\n",
      "L_max: 0.007778   -2log(L/L_max): 0.1414\n",
      "L_SM: 0.006966   -2log(L/L_SM): -0.07928\n",
      "\n",
      "---------------Analysis Label = ATLAS-SUSY-2013-02\n",
      "-------------------Dataset Label = (UL)\n",
      "-------------------Txname Labels = ['T2']\n",
      "Analysis sqrts: 8.00E+00 [TeV]\n",
      "Theory prediction: 2.37E-05 [pb]\n",
      "Theory conditions:  None\n",
      "Observed experimental limit: 2.20E+00 [fb]\n",
      "Observed r-value: 0.01077\n",
      "\n",
      "---------------Analysis Label = ATLAS-SUSY-2013-02\n",
      "-------------------Dataset Label = SR4jm\n",
      "-------------------Txname Labels = ['T2']\n",
      "Analysis sqrts: 8.00E+00 [TeV]\n",
      "Theory prediction: 1.46E-06 [pb]\n",
      "Theory conditions:  None\n",
      "Observed experimental limit: 5.03E-01 [fb]\n",
      "Expected experimental limit: 8.86E-01 [fb]\n",
      "Observed r-value: 0.002903\n",
      "Expected r-value: 0.001648\n",
      "Likelihood: 0.001426\n",
      "L_max: 0.001434   -2log(L/L_max): 0.01171\n",
      "L_SM: 0.001434   -2log(L/L_SM): 0.01171\n",
      "\n",
      "---------------Analysis Label = ATLAS-SUSY-2016-32\n",
      "-------------------Dataset Label = SR2FULL_150\n",
      "-------------------Txname Labels = ['THSCPM1b', 'THSCPM3']\n",
      "Analysis sqrts: 1.30E+01 [TeV]\n",
      "Theory prediction: 4.06E-09 [pb]\n",
      "Theory conditions:  None\n",
      "Observed experimental limit: 9.00E-02 [fb]\n",
      "Expected experimental limit: 9.00E-02 [fb]\n",
      "Observed r-value: 4.513e-05\n",
      "Expected r-value: 4.513e-05\n",
      "Likelihood: 0.2967\n",
      "L_max: 0.2967   -2log(L/L_max): 0.0002567\n",
      "L_SM: 0.2967   -2log(L/L_SM): 0.0002567\n",
      "\n",
      "---------------Analysis Label = CMS-EXO-13-006\n",
      "-------------------Dataset Label = c000\n",
      "-------------------Txname Labels = ['THSCPM1b', 'THSCPM2b', 'THSCPM3', 'THSCPM4']\n",
      "Analysis sqrts: 8.00E+00 [TeV]\n",
      "Theory prediction: 3.14E-09 [pb]\n",
      "Theory conditions:  None\n",
      "Observed experimental limit: 1.02E+00 [fb]\n",
      "Expected experimental limit: 1.09E+00 [fb]\n",
      "Observed r-value: 3.078e-06\n",
      "Expected r-value: 2.881e-06\n",
      "Likelihood: 0.00268\n",
      "L_max: 0.00268   -2log(L/L_max): 1.909e-06\n",
      "L_SM: 0.00268   -2log(L/L_SM): 1.909e-06\n",
      "\n",
      "Total cross-section for missing topologies (fb):  3.334E+00\n",
      "Total cross-section for missing topologies with displaced decays (fb):  1.182E+01\n",
      "Total cross-section for missing topologies with prompt decays (fb):  1.579E+02\n",
      "Total cross-section for topologies outside the grid (fb):  1.232E+01\n",
      "\n",
      "#Full information on unconstrained cross sections\n",
      "================================================================================\n",
      "missing topologies with the highest cross sections (up to 10):\n",
      "Sqrts (TeV)   Weight (fb)                  Element description\n",
      " 13.0          1.669E+00    #                         [[],[[jet],[jet]]]  (MET,MET)\n",
      " 13.0          1.665E+00    #                                    [[],[]]  (MET,MET)\n",
      "================================================================================\n",
      "missing topologies with displaced decays with the highest cross sections (up to 10):\n",
      "Sqrts (TeV)   Weight (fb)                  Element description\n",
      " 13.0          6.553E+00    #                    [[[jet]],[[jet],[jet]]]  (MET,MET)\n",
      " 13.0          3.650E+00    #              [[[jet],[jet]],[[jet],[jet]]]  (MET,MET)\n",
      " 13.0          1.617E+00    #                         [[],[[jet],[jet]]]  (MET,MET)\n",
      "================================================================================\n",
      "missing topologies with prompt decays with the highest cross sections (up to 10):\n",
      "Sqrts (TeV)   Weight (fb)                  Element description\n",
      " 13.0          1.529E+02    #                               [[],[[jet]]]  (MET,MET)\n",
      " 13.0          3.255E+00    #                              [[],[[l,nu]]]  (MET,MET)\n",
      " 13.0          1.665E+00    #                                    [[],[]]  (MET,MET)\n",
      "================================================================================\n",
      "topologies outside the grid with the highest cross sections (up to 10):\n",
      "Sqrts (TeV)   Weight (fb)                  Element description\n",
      " 13.0          6.672E+00    #                    [[[jet]],[[jet],[jet]]]  (MET,MET)\n",
      " 13.0          3.654E+00    #              [[[jet],[jet]],[[jet],[jet]]]  (MET,MET)\n",
      " 13.0          1.160E+00    #                          [[[jet]],[[jet]]]  (MET,MET)\n",
      " 13.0          8.364E-01    #                               [[],[[jet]]]  (MET,MET)\n",
      "================================================================================\n",
      "INFO in modelTester.testPoints() in 408: Done in 0.23 min\n"
     ]
    }
   ],
   "source": [
    "!runSModelS.py -p parameters.ini -f slhaFiles/wino_11010599.slha"
   ]
  },
  {
   "cell_type": "markdown",
   "metadata": {},
   "source": [
    "## Second Step: Run SModelS for multiple files"
   ]
  },
  {
   "cell_type": "code",
   "execution_count": null,
   "metadata": {},
   "outputs": [],
   "source": [
    "!runSModelS.py -p parameters_idm.ini -f slhaFiles/IDM_points -o results/IDM_output"
   ]
  },
  {
   "cell_type": "markdown",
   "metadata": {},
   "source": [
    "## Third Step: plot the results"
   ]
  },
  {
   "cell_type": "markdown",
   "metadata": {},
   "source": [
    "### Plot IDM results"
   ]
  },
  {
   "cell_type": "code",
   "execution_count": null,
   "metadata": {},
   "outputs": [],
   "source": [
    "import warnings\n",
    "warnings.filterwarnings(\"ignore\", message=\"numpy.dtype size changed\")\n",
    "import pyslha\n",
    "import matplotlib\n",
    "import matplotlib.pyplot as plt\n",
    "import numpy as np\n",
    "import glob,os,importlib\n",
    "cm = matplotlib.colormaps.get_cmap('RdYlBu')"
   ]
  },
  {
   "cell_type": "markdown",
   "metadata": {},
   "source": [
    "### Define path to SLHA and results folders"
   ]
  },
  {
   "cell_type": "code",
   "execution_count": null,
   "metadata": {},
   "outputs": [],
   "source": [
    "slhaFolder = './slhaFiles/IDM_points'\n",
    "resultsFolder = './results/IDM_output'"
   ]
  },
  {
   "cell_type": "markdown",
   "metadata": {},
   "source": [
    "### Read SModelS results"
   ]
  },
  {
   "cell_type": "code",
   "execution_count": null,
   "metadata": {},
   "outputs": [],
   "source": [
    "#Convert Experimental Results list to a dictionary\n",
    "data = []\n",
    "for f in glob.glob(resultsFolder+'/*.py'):\n",
    "    spec = importlib.util.spec_from_file_location(\"output\", f)\n",
    "    module = importlib.util.module_from_spec(spec)\n",
    "    spec.loader.exec_module(module)\n",
    "    smodelsDict = module.smodelsOutput\n",
    "    slhaFile = os.path.basename(smodelsDict['OutputStatus']['input file'])\n",
    "    slhaFile = os.path.join(slhaFolder,slhaFile)\n",
    "    #Read SLHA file (using pyslha):\n",
    "    slhaData = pyslha.readSLHAFile(slhaFile)\n",
    "    data.append((slhaData,smodelsDict))"
   ]
  },
  {
   "cell_type": "code",
   "execution_count": null,
   "metadata": {},
   "outputs": [],
   "source": [
    "mHc = []\n",
    "ctau = []\n",
    "r = []\n",
    "for slhaData,smodelsDict in data:\n",
    "    if not 'ExptRes' in smodelsDict: #If no results were applicable, point is allowed\n",
    "        rmax = 0.0\n",
    "    else:\n",
    "        rmax = smodelsDict['ExptRes'][0]['r'] #First result is the most constraining\n",
    "    mass = slhaData.blocks['MASS'][37] #H+ mass\n",
    "    width = slhaData.decays[37].totalwidth #H+ mass\n",
    "    if width:    \n",
    "        ct = 1.967e-16/width\n",
    "    else:\n",
    "        ct = 1e7\n",
    "    \n",
    "    mHc.append(mass)\n",
    "    ctau.append(ct)\n",
    "    r.append(rmax)"
   ]
  },
  {
   "cell_type": "markdown",
   "metadata": {},
   "source": [
    "### Plot results:"
   ]
  },
  {
   "cell_type": "code",
   "execution_count": null,
   "metadata": {},
   "outputs": [],
   "source": [
    "plt.figure(figsize=(8,6))\n",
    "cp = plt.scatter(mHc,ctau, c=r, vmin=0., vmax=2., s=25, cmap=cm)\n",
    "cb = plt.colorbar(cp)\n",
    "plt.yscale('log')\n",
    "plt.xlabel(r'$m_{H^{\\pm}}$ (GeV)',fontsize=20)    \n",
    "plt.ylabel(r'$c\\tau$ (m)',fontsize=20)\n",
    "cb.set_label(r'$r=\\sigma_{th}/\\sigma_{UL}$',fontsize=20)\n",
    "plt.tight_layout()\n",
    "plt.show()"
   ]
  },
  {
   "cell_type": "code",
   "execution_count": null,
   "metadata": {},
   "outputs": [],
   "source": []
  }
 ],
 "metadata": {
  "kernelspec": {
   "display_name": "Python 3 (ipykernel)",
   "language": "python",
   "name": "python3"
  },
  "language_info": {
   "codemirror_mode": {
    "name": "ipython",
    "version": 3
   },
   "file_extension": ".py",
   "mimetype": "text/x-python",
   "name": "python",
   "nbconvert_exporter": "python",
   "pygments_lexer": "ipython3",
   "version": "3.11.4"
  }
 },
 "nbformat": 4,
 "nbformat_minor": 4
}
